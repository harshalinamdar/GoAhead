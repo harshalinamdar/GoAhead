{
 "cells": [
  {
   "cell_type": "markdown",
   "metadata": {},
   "source": [
    "# **Methodology To Be Adopted**\n",
    "## How to gather the data and build the approach to come up with the solution"
   ]
  },
  {
   "cell_type": "markdown",
   "metadata": {},
   "source": [
    "Now that the consultant has been identified to come up with a solution, let us check what approach he can choose -"
   ]
  },
  {
   "cell_type": "markdown",
   "metadata": {},
   "source": [
    "Steps in building the required Data -"
   ]
  },
  {
   "cell_type": "markdown",
   "metadata": {},
   "source": [
    "**1. Have a detailed list of Postal Codes for California State along with the Latitude and Longitude details for each and every postal code**"
   ]
  },
  {
   "cell_type": "markdown",
   "metadata": {},
   "source": [
    "There are multiple web sites on internet where you can get the Postal Codes for California State along with Latitude and Longitude Details\n",
    "Once the website is identified, the details can be extracted in one of the two ways --\n",
    "1. Scrape the data from the website using html5 library and load the same in pandas\n",
    "2. Get the details downloaded in a CSV format. Make necessary changes in the data and then upload the same in the pandas"
   ]
  },
  {
   "cell_type": "markdown",
   "metadata": {},
   "source": [
    "In case we want to scrape the data using html5 library, following command needs to be executed to install the package -\n",
    "**pip install html5lib**\n",
    "\n",
    "Once that is done - we will need lxml package to scrape the contents of the webpage - **pip install lxml**"
   ]
  },
  {
   "cell_type": "markdown",
   "metadata": {},
   "source": [
    "Next Step -\n",
    "Import Pandas - **import pandas as pd**\n",
    "\n",
    "Using following syntax to get the details in pandas -\n",
    "dfs = pd.read_html('URL', header = 0)"
   ]
  },
  {
   "cell_type": "markdown",
   "metadata": {},
   "source": [
    "Now, we have a data in place that will consist at least following columns - "
   ]
  },
  {
   "cell_type": "markdown",
   "metadata": {},
   "source": [
    "1. Postal Code\n",
    "2. Borough\n",
    "3. City\n",
    "4. State\n",
    "5. Latitude\n",
    "6. Longitude"
   ]
  },
  {
   "cell_type": "markdown",
   "metadata": {},
   "source": [
    "There can be few changes made like - removing the State column considering for all the columns it will be the same - **'California'**"
   ]
  },
  {
   "cell_type": "markdown",
   "metadata": {},
   "source": [
    "**2. Considering there are multiple cities in the California State, shortlisting only Los Angeles for narrowing down the research part. Assumption is that compared to other Cities, Los Angeles is a better pick.**"
   ]
  },
  {
   "cell_type": "markdown",
   "metadata": {},
   "source": [
    "This can be replicating the Dataframe to a new one with only the details where City is **'Los Angeles'**"
   ]
  },
  {
   "cell_type": "markdown",
   "metadata": {},
   "source": [
    "**3. Now that we have all the Latitudes and Longitudes details for all the postal codes, next thing that we need is the neighborhood details for all these postal codes**"
   ]
  },
  {
   "cell_type": "markdown",
   "metadata": {},
   "source": [
    "Neighborhood details actually mean Venues surrounding the Postal Code"
   ]
  },
  {
   "cell_type": "markdown",
   "metadata": {},
   "source": [
    "We can get the details from Foursquare location data"
   ]
  },
  {
   "cell_type": "markdown",
   "metadata": {},
   "source": [
    "Getting the Credentials First"
   ]
  },
  {
   "cell_type": "markdown",
   "metadata": {},
   "source": [
    "CLIENT_ID = 'Foursquare ID'\n",
    "CLIENT_SECRET = 'Foursquare Secret'\n",
    "VERSION = 'Version Number'"
   ]
  },
  {
   "cell_type": "markdown",
   "metadata": {},
   "source": [
    "Generating URL with which requests can be made to Foursquare APIs for fetching Venues data"
   ]
  },
  {
   "cell_type": "markdown",
   "metadata": {},
   "source": [
    "url = 'https://api.foursquare.com/v2/venues/explore?&client_id={}&client_secret={}&v={}&ll={},{}&radius={}&limit={}'.format(\n",
    "CLIENT_ID, CLIENT_SECRET, VERSION, latitude, longitude, radius, limit)\n",
    "url"
   ]
  },
  {
   "cell_type": "markdown",
   "metadata": {},
   "source": [
    "**4. Using the Foursquare Location data for getting the details about the nearby Venues**"
   ]
  },
  {
   "cell_type": "markdown",
   "metadata": {},
   "source": [
    "We already have the Credentials in place and also the URL created. \n",
    "Now we can request Foursquare API for the venues details."
   ]
  },
  {
   "cell_type": "markdown",
   "metadata": {},
   "source": [
    "For that, 1st step is to import requests library using following command - **import requests**"
   ]
  },
  {
   "cell_type": "markdown",
   "metadata": {},
   "source": [
    "Once the request is made, the result that we can from Foursquare will be a JSON file.\n",
    "To be able to read it properly and do required operations on it, we will need to get the details from JSON transferred to Pandas Dataframe.\n",
    "\n",
    "For this we will need JSON Normalization package by executing following command - **from pandas.io.json import json_normalize**"
   ]
  },
  {
   "cell_type": "markdown",
   "metadata": {},
   "source": [
    "Making the request be using following code - **results = requests.get(url).json()**"
   ]
  },
  {
   "cell_type": "markdown",
   "metadata": {},
   "source": [
    "**5. What to expect from Neighborhood Data and Why do we need that ?**"
   ]
  },
  {
   "cell_type": "markdown",
   "metadata": {},
   "source": [
    "Which Neighborhoods should be more appealing for an Ice Cream Parlor ?"
   ]
  },
  {
   "cell_type": "markdown",
   "metadata": {},
   "source": [
    "When we want our Ice Cream Parlor to be in an easy reach to the customers, first level of filtering the venues that we have will be to identify areas with a good population density. \n",
    "\n",
    "How to figure out whether the Density is low or high – \n",
    "This we can figure out based on the existing venues in the localities – The places where there are many restaurants, shopping malls, schools, colleges, universities, firms, corporate/business parks. \n",
    "\n",
    "In general, this is all about finding areas that are always filled with potential customers rather than choosing the areas which are too residential and lacks the human activity needed to sustain the business."
   ]
  },
  {
   "cell_type": "markdown",
   "metadata": {},
   "source": [
    "**Important venues to be tracked from the Foursquare Location Data -**"
   ]
  },
  {
   "cell_type": "markdown",
   "metadata": {},
   "source": [
    "1. Restaurants/Pubs\n",
    "2. Malls\n",
    "3. Multiplexes, Cinema Theatres, Local Operas\n",
    "4. Schools\n",
    "5. Universities/Colleges\n",
    "6. Industries/Firms/Business Parks\n",
    "7. Airports/Bus Terminals/Metro Stations\n",
    "\n",
    "Apart from these, once we have the venue details, we can add few more to the list."
   ]
  },
  {
   "cell_type": "markdown",
   "metadata": {},
   "source": [
    "**6. Finding Top Venues for all the Postal Codes to check the areas of our interest, the areas that will suit an Ice Cream Parlor**"
   ]
  },
  {
   "cell_type": "markdown",
   "metadata": {},
   "source": [
    "This will be done by Finding 10 common venues in order for all the postal codes that we have. This will be done using One Hot Coding - Having a counter set for all the venues and counting the number of such venues for each of the neighbourhood. \n",
    "Once that is done, sorting it in a descending order and coming up with the Top 10 Venues for each Borough/Postal Code.\n",
    "\n",
    "Here, it is now important, to check the venues that are not of interest and removing those from the list.\n",
    "\n",
    "Now we will have a reduced list of Boroughs having the venues or localities that have interest for us."
   ]
  },
  {
   "cell_type": "markdown",
   "metadata": {},
   "source": [
    "**7. Using the Top Venues Data, cluster will be formed of different areas based on similarity of venues and then it will be presented to the Client - IceStorm**"
   ]
  },
  {
   "cell_type": "markdown",
   "metadata": {},
   "source": [
    "Clusters can be formed using the similarity of the top venues for each of the Borough. Clustering can be done using K-Means."
   ]
  },
  {
   "cell_type": "markdown",
   "metadata": {},
   "source": [
    "This now can be mapped on a graph using the geopy plotting function"
   ]
  },
  {
   "cell_type": "markdown",
   "metadata": {},
   "source": [
    "**8. Once we have details on the venues of the clusters, we can the prioritize the details based on the list of neighborhood in point no. 4 and come up with 2-3 Postal Codes where IceStorm can start its Ice Cream Parlor.**"
   ]
  },
  {
   "cell_type": "markdown",
   "metadata": {},
   "source": [
    "We can then present the shortlisted clusters to the Client and then see if any further narrowing is needed and if we can get more specifications to narrow down the result."
   ]
  },
  {
   "cell_type": "markdown",
   "metadata": {},
   "source": [
    "## End of the Notebook"
   ]
  }
 ],
 "metadata": {
  "kernelspec": {
   "display_name": "Python",
   "language": "python",
   "name": "conda-env-python-py"
  },
  "language_info": {
   "codemirror_mode": {
    "name": "ipython",
    "version": 3
   },
   "file_extension": ".py",
   "mimetype": "text/x-python",
   "name": "python",
   "nbconvert_exporter": "python",
   "pygments_lexer": "ipython3",
   "version": "3.6.10"
  }
 },
 "nbformat": 4,
 "nbformat_minor": 4
}
