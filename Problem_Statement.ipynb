{
 "cells": [
  {
   "cell_type": "markdown",
   "metadata": {},
   "source": [
    "# **The Battle of Neighborhoods**\n",
    "### By - Harshal Inamdar"
   ]
  },
  {
   "cell_type": "markdown",
   "metadata": {},
   "source": [
    "## **Overview of the Problem Statement**"
   ]
  },
  {
   "cell_type": "markdown",
   "metadata": {},
   "source": [
    "## Client - **IceStorm** (UK based Ice Cream Company)\n",
    "## Client Description --\n",
    "\n",
    "The firm is based out of Liverpool UK.\n",
    "The company was established in Year 1995.\n",
    "Apart from the main branch, it also has presence in the other major cities of UK like -- London, Manchester, Swansea, Edinburgh, Birmingham.\n",
    "However, it has no overseas presence.\n",
    "\n",
    "## Decision to venture into The United States of America\n",
    "\n",
    "To try its luck outside of UK, the firm has finalized that the it wants to venture into the United States of America.\n",
    "\n",
    "## Narrowing down to the specifics\n",
    "\n",
    "While the company has decided that the city where they would want to start the 1st Ice Cream Parlor will be California owing to few undisclosed reasons, the company has not been able to figure out in which specific neighborhood the 1st franchise will start.\n"
   ]
  },
  {
   "cell_type": "markdown",
   "metadata": {},
   "source": [
    "Also, it should be noted that this 1st franchise will be the company owned franchise. \n",
    "Based on the performance evaluation over a period of 1 year, company will decide on the future coarse.\n"
   ]
  },
  {
   "cell_type": "markdown",
   "metadata": {},
   "source": [
    "## Finalizing the Consultant"
   ]
  },
  {
   "cell_type": "markdown",
   "metadata": {},
   "source": [
    "So as to be able to find a suitable neighborhood without much experimentation, the firm has approached a California based consultant specialized in Supply Chain Data Analytics to narrow down to areas where it can start its journey in United States.\n"
   ]
  },
  {
   "cell_type": "markdown",
   "metadata": {},
   "source": [
    "Consultant is expected to pinpoint the areas where the 1st Ice Cream Parlor in the United States can start. \n",
    "Consultant can have his/her assumptions based on his experience to define the methodology for arriving at the probable locations."
   ]
  },
  {
   "cell_type": "code",
   "execution_count": null,
   "metadata": {},
   "outputs": [],
   "source": []
  }
 ],
 "metadata": {
  "kernelspec": {
   "display_name": "Python",
   "language": "python",
   "name": "conda-env-python-py"
  },
  "language_info": {
   "codemirror_mode": {
    "name": "ipython",
    "version": 3
   },
   "file_extension": ".py",
   "mimetype": "text/x-python",
   "name": "python",
   "nbconvert_exporter": "python",
   "pygments_lexer": "ipython3",
   "version": "3.6.10"
  }
 },
 "nbformat": 4,
 "nbformat_minor": 4
}
